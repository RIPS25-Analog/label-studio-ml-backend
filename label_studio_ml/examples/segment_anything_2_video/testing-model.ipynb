{
 "cells": [
  {
   "cell_type": "code",
   "execution_count": 11,
   "id": "1ff2328a",
   "metadata": {},
   "outputs": [
    {
     "name": "stdout",
     "output_type": "stream",
     "text": [
      "INFO:model:Initialising model for video tracking\n",
      "INFO:model:Using model config: configs/sam2.1/sam2.1_hiera_t.yaml\n",
      "INFO:root:Loaded checkpoint sucessfully\n"
     ]
    }
   ],
   "source": [
    "import os\n",
    "#set environment variable for checkpoints path\n",
    "os.environ['MODEL_CHECKPOINT'] = \"/home/vagarwal/label-studio-ml-backend/label_studio_ml/examples/segment_anything_2_video/checkpoints/sam2.1_hiera_tiny.pt\"\n",
    "import model"
   ]
  },
  {
   "cell_type": "code",
   "execution_count": 12,
   "id": "309db6b8",
   "metadata": {},
   "outputs": [],
   "source": [
    "req_dict = {\n",
    "    \"tasks\": [\n",
    "        {\n",
    "            \"id\": 198869221,\n",
    "            \"data\": {\n",
    "                \"video\": \"upload/172314/1e38365b-Fish.mp4\"\n",
    "            },\n",
    "            \"meta\": {},\n",
    "            \"created_at\": \"2025-07-19T02:05:07.854203Z\",\n",
    "            \"updated_at\": \"2025-07-19T02:11:12.458821Z\",\n",
    "            \"is_labeled\": True,\n",
    "            \"overlap\": 1,\n",
    "            \"inner_id\": 1,\n",
    "            \"total_annotations\": 1,\n",
    "            \"cancelled_annotations\": 0,\n",
    "            \"total_predictions\": 0,\n",
    "            \"comment_count\": 0,\n",
    "            \"unresolved_comment_count\": 0,\n",
    "            \"last_comment_updated_at\": None,\n",
    "            \"project\": 172314,\n",
    "            \"updated_by\": 81168,\n",
    "            \"file_upload\": 2541019,\n",
    "            \"comment_authors\": [],\n",
    "            \"annotations\": [\n",
    "                {\n",
    "                    \"id\": 65843807,\n",
    "                    \"result\": [\n",
    "                        {\n",
    "                            \"id\": \"EgiKlWjRLb\",\n",
    "                            \"type\": \"videorectangle\",\n",
    "                            \"value\": {\n",
    "                                \"duration\": 5.525,\n",
    "                                \"sequence\": [\n",
    "                                    {\n",
    "                                        \"x\": 42.82812500000001,\n",
    "                                        \"y\": 21.666666666666668,\n",
    "                                        \"time\": 0.04,\n",
    "                                        \"frame\": 1,\n",
    "                                        \"width\": 10.593749999999998,\n",
    "                                        \"height\": 28.999999999999993,\n",
    "                                        \"enabled\": True,\n",
    "                                        \"rotation\": 0\n",
    "                                    }\n",
    "                                ],\n",
    "                                \"framesCount\": 138\n",
    "                            },\n",
    "                            \"origin\": \"manual\",\n",
    "                            \"to_name\": \"video\",\n",
    "                            \"from_name\": \"box\"\n",
    "                        }\n",
    "                    ],\n",
    "                    \"created_username\": \"Vikhyat Agarwal vikhyat2603@gmail.com, 81168\",\n",
    "                    \"created_ago\": \"6 hours, 40 minutes\",\n",
    "                    \"completed_by\": 81168,\n",
    "                    \"was_cancelled\": False,\n",
    "                    \"ground_truth\": False,\n",
    "                    \"created_at\": \"2025-07-19T02:11:12.374768Z\",\n",
    "                    \"updated_at\": \"2025-07-19T02:11:12.374777Z\",\n",
    "                    \"draft_created_at\": None,\n",
    "                    \"lead_time\": 9.657,\n",
    "                    \"import_id\": None,\n",
    "                    \"last_action\": \"submitted\",\n",
    "                    \"bulk_created\": False,\n",
    "                    \"task\": 198869221,\n",
    "                    \"project\": 172314,\n",
    "                    \"updated_by\": 81168,\n",
    "                    \"parent_prediction\": None,\n",
    "                    \"parent_annotation\": None,\n",
    "                    \"last_created_by\": 81168\n",
    "                }\n",
    "            ],\n",
    "            \"predictions\": []\n",
    "        }\n",
    "    ],\n",
    "    \"project\": \"172314.1752881204\",\n",
    "    \"label_config\": \"<View>\\n  <Header>Label video objects</Header>\\n\\n  <!-- Object tag -->\\n  <Video name=\\\"video\\\" value=\\\"$video\\\" framerate=\\\"25.0\\\"/>\\n\\n  <!-- Control tags your backend looks for -->\\n  <VideoRectangle name=\\\"box\\\" toName=\\\"video\\\" smart=\\\"True\\\" />\\n\\n  <!-- Define labels -->\\n  <Labels name=\\\"videoLabels\\\" toName=\\\"video\\\" allowEmpty=\\\"True\\\">\\n    <Label value=\\\"Fish\\\"/>\\n    <Label value=\\\"Ball\\\"/>\\n    <!-- add more labels as needed -->\\n  </Labels>\\n</View>\",\n",
    "    \"params\": {\n",
    "        \"login\": None,\n",
    "        \"password\": None,\n",
    "        \"context\": None\n",
    "    }\n",
    "}"
   ]
  },
  {
   "cell_type": "code",
   "execution_count": 13,
   "id": "d94aefc8",
   "metadata": {},
   "outputs": [],
   "source": [
    "from label_studio_sdk.label_interface import LabelInterface\n",
    "from label_studio_sdk.label_interface.create import labels"
   ]
  },
  {
   "cell_type": "code",
   "execution_count": 14,
   "id": "68b5c9cf",
   "metadata": {},
   "outputs": [],
   "source": [
    "label_config = LabelInterface.create({\n",
    "    \"video\": \"Video\",\n",
    "    \"box\": labels([\"Fish\", \"Ball\"], tag_type=\"VideoRectangle\")\n",
    "})"
   ]
  },
  {
   "cell_type": "code",
   "execution_count": 15,
   "id": "186f6ab4",
   "metadata": {},
   "outputs": [
    {
     "name": "stdout",
     "output_type": "stream",
     "text": [
      "INFO:model:NewModel initialized successfully\n"
     ]
    }
   ],
   "source": [
    "nm = model.NewModel(label_config=label_config)"
   ]
  },
  {
   "cell_type": "code",
   "execution_count": 24,
   "id": "8e4590f7",
   "metadata": {},
   "outputs": [
    {
     "data": {
      "text/plain": [
       "dict_keys(['id', 'data', 'meta', 'created_at', 'updated_at', 'is_labeled', 'overlap', 'inner_id', 'total_annotations', 'cancelled_annotations', 'total_predictions', 'comment_count', 'unresolved_comment_count', 'last_comment_updated_at', 'project', 'updated_by', 'file_upload', 'comment_authors', 'annotations', 'predictions'])"
      ]
     },
     "execution_count": 24,
     "metadata": {},
     "output_type": "execute_result"
    }
   ],
   "source": [
    "req_dict['tasks'][0].keys()"
   ]
  },
  {
   "cell_type": "code",
   "execution_count": 26,
   "id": "06b2c75a",
   "metadata": {},
   "outputs": [
    {
     "name": "stdout",
     "output_type": "stream",
     "text": [
      "INFO:model:model.predict called\n",
      "INFO:model:with tasks: 1, context: {'id': 65843807, 'result': [{'id': 'EgiKlWjRLb', 'type': 'videorectangle', 'value': {'duration': 5.525, 'sequence': [{'x': 42.82812500000001, 'y': 21.666666666666668, 'time': 0.04, 'frame': 1, 'width': 10.593749999999998, 'height': 28.999999999999993, 'enabled': True, 'rotation': 0}], 'framesCount': 138}, 'origin': 'manual', 'to_name': 'video', 'from_name': 'box'}], 'created_username': 'Vikhyat Agarwal vikhyat2603@gmail.com, 81168', 'created_ago': '6 hours, 40 minutes', 'completed_by': 81168, 'was_cancelled': False, 'ground_truth': False, 'created_at': '2025-07-19T02:11:12.374768Z', 'updated_at': '2025-07-19T02:11:12.374777Z', 'draft_created_at': None, 'lead_time': 9.657, 'import_id': None, 'last_action': 'submitted', 'bulk_created': False, 'task': 198869221, 'project': 172314, 'updated_by': 81168, 'parent_prediction': None, 'parent_annotation': None, 'last_created_by': 81168}, kwargs: {}\n",
      "INFO:model:from_name: box, to_name: video, value: video\n"
     ]
    },
    {
     "ename": "FileNotFoundError",
     "evalue": "Can't resolve url, neither hostname or project_dir passed: /data/upload/172314/1e38365b-Fish.mp4. You can set LABEL_STUDIO_URL environment variable to use it as a hostname.",
     "output_type": "error",
     "traceback": [
      "\u001b[31m---------------------------------------------------------------------------\u001b[39m",
      "\u001b[31mFileNotFoundError\u001b[39m                         Traceback (most recent call last)",
      "\u001b[36mCell\u001b[39m\u001b[36m \u001b[39m\u001b[32mIn[26]\u001b[39m\u001b[32m, line 1\u001b[39m\n\u001b[32m----> \u001b[39m\u001b[32m1\u001b[39m \u001b[43mnm\u001b[49m\u001b[43m.\u001b[49m\u001b[43mpredict\u001b[49m\u001b[43m(\u001b[49m\u001b[43mreq_dict\u001b[49m\u001b[43m[\u001b[49m\u001b[33;43m'\u001b[39;49m\u001b[33;43mtasks\u001b[39;49m\u001b[33;43m'\u001b[39;49m\u001b[43m]\u001b[49m\u001b[43m,\u001b[49m\u001b[43m \u001b[49m\u001b[43mreq_dict\u001b[49m\u001b[43m[\u001b[49m\u001b[33;43m'\u001b[39;49m\u001b[33;43mtasks\u001b[39;49m\u001b[33;43m'\u001b[39;49m\u001b[43m]\u001b[49m\u001b[43m[\u001b[49m\u001b[32;43m0\u001b[39;49m\u001b[43m]\u001b[49m\u001b[43m[\u001b[49m\u001b[33;43m'\u001b[39;49m\u001b[33;43mannotations\u001b[39;49m\u001b[33;43m'\u001b[39;49m\u001b[43m]\u001b[49m\u001b[43m[\u001b[49m\u001b[32;43m0\u001b[39;49m\u001b[43m]\u001b[49m\u001b[43m)\u001b[49m\n",
      "\u001b[36mFile \u001b[39m\u001b[32m~/label-studio-ml-backend/label_studio_ml/examples/segment_anything_2_video/model.py:243\u001b[39m, in \u001b[36mNewModel.predict\u001b[39m\u001b[34m(self, tasks, context, **kwargs)\u001b[39m\n\u001b[32m    240\u001b[39m video_url = task[\u001b[33m'\u001b[39m\u001b[33mdata\u001b[39m\u001b[33m'\u001b[39m][value]\n\u001b[32m    242\u001b[39m \u001b[38;5;66;03m# cache the video locally\u001b[39;00m\n\u001b[32m--> \u001b[39m\u001b[32m243\u001b[39m video_path = \u001b[43mget_local_path\u001b[49m\u001b[43m(\u001b[49m\u001b[43mvideo_url\u001b[49m\u001b[43m,\u001b[49m\u001b[43m \u001b[49m\u001b[43mtask_id\u001b[49m\u001b[43m=\u001b[49m\u001b[43mtask_id\u001b[49m\u001b[43m)\u001b[49m\n\u001b[32m    244\u001b[39m logger.debug(\u001b[33mf\u001b[39m\u001b[33m'\u001b[39m\u001b[33mVideo path: \u001b[39m\u001b[38;5;132;01m{\u001b[39;00mvideo_path\u001b[38;5;132;01m}\u001b[39;00m\u001b[33m'\u001b[39m)\n\u001b[32m    246\u001b[39m \u001b[38;5;66;03m# get prompts from context\u001b[39;00m\n",
      "\u001b[36mFile \u001b[39m\u001b[32m~/label-studio-ml-backend/env/lib/python3.13/site-packages/label_studio_sdk/_extensions/label_studio_tools/core/utils/io.py:149\u001b[39m, in \u001b[36mget_local_path\u001b[39m\u001b[34m(url, cache_dir, project_dir, hostname, image_dir, access_token, download_resources, task_id)\u001b[39m\n\u001b[32m    146\u001b[39m \u001b[38;5;28;01mif\u001b[39;00m is_uploaded_file \u001b[38;5;129;01mor\u001b[39;00m is_local_storage_file \u001b[38;5;129;01mor\u001b[39;00m is_cloud_storage_file:\n\u001b[32m    147\u001b[39m     \u001b[38;5;66;03m# hostname check\u001b[39;00m\n\u001b[32m    148\u001b[39m     \u001b[38;5;28;01mif\u001b[39;00m \u001b[38;5;129;01mnot\u001b[39;00m hostname:\n\u001b[32m--> \u001b[39m\u001b[32m149\u001b[39m         \u001b[38;5;28;01mraise\u001b[39;00m \u001b[38;5;167;01mFileNotFoundError\u001b[39;00m(\n\u001b[32m    150\u001b[39m             \u001b[33mf\u001b[39m\u001b[33m\"\u001b[39m\u001b[33mCan\u001b[39m\u001b[33m'\u001b[39m\u001b[33mt resolve url, neither hostname or project_dir passed: \u001b[39m\u001b[38;5;132;01m{\u001b[39;00murl\u001b[38;5;132;01m}\u001b[39;00m\u001b[33m. \u001b[39m\u001b[33m\"\u001b[39m\n\u001b[32m    151\u001b[39m             \u001b[33m\"\u001b[39m\u001b[33mYou can set LABEL_STUDIO_URL environment variable to use it as a hostname.\u001b[39m\u001b[33m\"\u001b[39m\n\u001b[32m    152\u001b[39m         )\n\u001b[32m    153\u001b[39m     \u001b[38;5;66;03m# uploaded and local storage file\u001b[39;00m\n\u001b[32m    154\u001b[39m     \u001b[38;5;28;01melif\u001b[39;00m is_uploaded_file \u001b[38;5;129;01mor\u001b[39;00m is_local_storage_file:\n",
      "\u001b[31mFileNotFoundError\u001b[39m: Can't resolve url, neither hostname or project_dir passed: /data/upload/172314/1e38365b-Fish.mp4. You can set LABEL_STUDIO_URL environment variable to use it as a hostname."
     ]
    }
   ],
   "source": [
    "nm.predict(req_dict['tasks'], req_dict['tasks'][0]['annotations'][0])"
   ]
  },
  {
   "cell_type": "code",
   "execution_count": 27,
   "id": "dedd25a7",
   "metadata": {},
   "outputs": [
    {
     "data": {
      "text/plain": [
       "[{'id': 198869221,\n",
       "  'data': {'video': 'upload/172314/1e38365b-Fish.mp4'},\n",
       "  'meta': {},\n",
       "  'created_at': '2025-07-19T02:05:07.854203Z',\n",
       "  'updated_at': '2025-07-19T02:11:12.458821Z',\n",
       "  'is_labeled': True,\n",
       "  'overlap': 1,\n",
       "  'inner_id': 1,\n",
       "  'total_annotations': 1,\n",
       "  'cancelled_annotations': 0,\n",
       "  'total_predictions': 0,\n",
       "  'comment_count': 0,\n",
       "  'unresolved_comment_count': 0,\n",
       "  'last_comment_updated_at': None,\n",
       "  'project': 172314,\n",
       "  'updated_by': 81168,\n",
       "  'file_upload': 2541019,\n",
       "  'comment_authors': [],\n",
       "  'annotations': [{'id': 65843807,\n",
       "    'result': [{'id': 'EgiKlWjRLb',\n",
       "      'type': 'videorectangle',\n",
       "      'value': {'duration': 5.525,\n",
       "       'sequence': [{'x': 42.82812500000001,\n",
       "         'y': 21.666666666666668,\n",
       "         'time': 0.04,\n",
       "         'frame': 1,\n",
       "         'width': 10.593749999999998,\n",
       "         'height': 28.999999999999993,\n",
       "         'enabled': True,\n",
       "         'rotation': 0}],\n",
       "       'framesCount': 138},\n",
       "      'origin': 'manual',\n",
       "      'to_name': 'video',\n",
       "      'from_name': 'box'}],\n",
       "    'created_username': 'Vikhyat Agarwal vikhyat2603@gmail.com, 81168',\n",
       "    'created_ago': '7\\xa0hours, 6\\xa0minutes',\n",
       "    'completed_by': 81168,\n",
       "    'was_cancelled': False,\n",
       "    'ground_truth': False,\n",
       "    'created_at': '2025-07-19T02:11:12.374768Z',\n",
       "    'updated_at': '2025-07-19T02:11:12.374777Z',\n",
       "    'draft_created_at': None,\n",
       "    'lead_time': 9.657,\n",
       "    'import_id': None,\n",
       "    'last_action': 'submitted',\n",
       "    'bulk_created': False,\n",
       "    'task': 198869221,\n",
       "    'project': 172314,\n",
       "    'updated_by': 81168,\n",
       "    'parent_prediction': None,\n",
       "    'parent_annotation': None,\n",
       "    'last_created_by': 81168}],\n",
       "  'predictions': []}]"
      ]
     },
     "execution_count": 27,
     "metadata": {},
     "output_type": "execute_result"
    }
   ],
   "source": [
    "[{'id': 198869221, 'data': {'video': 'upload/172314/1e38365b-Fish.mp4'}, 'meta': {}, 'created_at': '2025-07-19T02:05:07.854203Z', 'updated_at': '2025-07-19T02:11:12.458821Z', 'is_labeled': True, 'overlap': 1, 'inner_id': 1, 'total_annotations': 1, 'cancelled_annotations': 0, 'total_predictions': 0, 'comment_count': 0, 'unresolved_comment_count': 0, 'last_comment_updated_at': None, 'project': 172314, 'updated_by': 81168, 'file_upload': 2541019, 'comment_authors': [], 'annotations': [{'id': 65843807, 'result': [{'id': 'EgiKlWjRLb', 'type': 'videorectangle', 'value': {'duration': 5.525, 'sequence': [{'x': 42.82812500000001, 'y': 21.666666666666668, 'time': 0.04, 'frame': 1, 'width': 10.593749999999998, 'height': 28.999999999999993, 'enabled': True, 'rotation': 0}], 'framesCount': 138}, 'origin': 'manual', 'to_name': 'video', 'from_name': 'box'}], 'created_username': 'Vikhyat Agarwal vikhyat2603@gmail.com, 81168', 'created_ago': '7\\xa0hours, 6\\xa0minutes', 'completed_by': 81168, 'was_cancelled': False, 'ground_truth': False, 'created_at': '2025-07-19T02:11:12.374768Z', 'updated_at': '2025-07-19T02:11:12.374777Z', 'draft_created_at': None, 'lead_time': 9.657, 'import_id': None, 'last_action': 'submitted', 'bulk_created': False, 'task': 198869221, 'project': 172314, 'updated_by': 81168, 'parent_prediction': None, 'parent_annotation': None, 'last_created_by': 81168}], 'predictions': []}]"
   ]
  },
  {
   "cell_type": "code",
   "execution_count": 3,
   "id": "2528c69a",
   "metadata": {},
   "outputs": [],
   "source": [
    "vid_html = b'<!DOCTYPE html>\\n<html class=\"h-full\" lang=\"en-US\" dir=\"ltr\">\\n  <head>\\n    <link rel=\"preload\" href=\"https://cdn.ngrok.com/static/fonts/euclid-square/EuclidSquare-Regular-WebS.woff\" as=\"font\" type=\"font/woff\" crossorigin=\"anonymous\" />\\n    <link rel=\"preload\" href=\"https://cdn.ngrok.com/static/fonts/euclid-square/EuclidSquare-RegularItalic-WebS.woff\" as=\"font\" type=\"font/woff\" crossorigin=\"anonymous\" />\\n    <link rel=\"preload\" href=\"https://cdn.ngrok.com/static/fonts/euclid-square/EuclidSquare-Medium-WebS.woff\" as=\"font\" type=\"font/woff\" crossorigin=\"anonymous\" />\\n    <link rel=\"preload\" href=\"https://cdn.ngrok.com/static/fonts/euclid-square/EuclidSquare-Semibold-WebS.woff\" as=\"font\" type=\"font/woff\" crossorigin=\"anonymous\" />\\n    <link rel=\"preload\" href=\"https://cdn.ngrok.com/static/fonts/euclid-square/EuclidSquare-MediumItalic-WebS.woff\" as=\"font\" type=\"font/woff\" crossorigin=\"anonymous\" />\\n    <link rel=\"preload\" href=\"https://cdn.ngrok.com/static/fonts/ibm-plex-mono/IBMPlexMono-Text.woff\" as=\"font\" type=\"font/woff\" crossorigin=\"anonymous\" />\\n    <link rel=\"preload\" href=\"https://cdn.ngrok.com/static/fonts/ibm-plex-mono/IBMPlexMono-TextItalic.woff\" as=\"font\" type=\"font/woff\" crossorigin=\"anonymous\" />\\n    <link rel=\"preload\" href=\"https://cdn.ngrok.com/static/fonts/ibm-plex-mono/IBMPlexMono-SemiBold.woff\" as=\"font\" type=\"font/woff\" crossorigin=\"anonymous\" />\\n    <link rel=\"preload\" href=\"https://cdn.ngrok.com/static/fonts/ibm-plex-mono/IBMPlexMono-SemiBoldItalic.woff\" as=\"font\" type=\"font/woff\" crossorigin=\"anonymous\" />\\n    <meta charset=\"utf-8\">\\n    <meta name=\"author\" content=\"ngrok\">\\n    <meta name=\"description\" content=\"ngrok is the fastest way to put anything on the internet with a single command.\">\\n    <meta name=\"robots\" content=\"noindex, nofollow\">\\n    <meta name=\"viewport\" content=\"width=device-width, initial-scale=1\">\\n    <link id=\"style\" rel=\"stylesheet\" href=\"https://cdn.ngrok.com/static/css/error.css\">\\n    <noscript>You are about to visit 0e485d805439.ngrok-free.app, served by 167.234.216.194. This website is served for free through ngrok.com. You should only visit this website if you trust whoever sent the link to you. (ERR_NGROK_6024)</noscript>\\n    <script id=\"script\" src=\"https://cdn.ngrok.com/static/js/error.js\" type=\"text/javascript\"></script>\\n  </head>\\n  <body class=\"h-full\" id=\"ngrok\">\\n    <div id=\"root\" data-payload=\"eyJjZG5CYXNlIjoiaHR0cHM6Ly9jZG4ubmdyb2suY29tLyIsImNvZGUiOiI2MDI0IiwiaG9zdHBvcnQiOiIwZTQ4NWQ4MDU0Mzkubmdyb2stZnJlZS5hcHAiLCJtZXNzYWdlIjoiWW91IGFyZSBhYm91dCB0byB2aXNpdCAwZTQ4NWQ4MDU0Mzkubmdyb2stZnJlZS5hcHAsIHNlcnZlZCBieSAxNjcuMjM0LjIxNi4xOTQuIFRoaXMgd2Vic2l0ZSBpcyBzZXJ2ZWQgZm9yIGZyZWUgdGhyb3VnaCBuZ3Jvay5jb20uIFlvdSBzaG91bGQgb25seSB2aXNpdCB0aGlzIHdlYnNpdGUgaWYgeW91IHRydXN0IHdob2V2ZXIgc2VudCB0aGUgbGluayB0byB5b3UuIiwic2VydmluZ0lQIjoiMTY3LjIzNC4yMTYuMTk0IiwidGl0bGUiOiJPSyJ9\"></div>\\n  </body>\\n</html>\\n'\n",
    "vid_html2 = b'<!DOCTYPE html>\\n<html class=\"h-full\" lang=\"en-US\" dir=\"ltr\">\\n  <head>\\n    <link rel=\"preload\" href=\"https://cdn.ngrok.com/static/fonts/euclid-square/EuclidSquare-Regular-WebS.woff\" as=\"font\" type=\"font/woff\" crossorigin=\"anonymous\" />\\n    <link rel=\"preload\" href=\"https://cdn.ngrok.com/static/fonts/euclid-square/EuclidSquare-RegularItalic-WebS.woff\" as=\"font\" type=\"font/woff\" crossorigin=\"anonymous\" />\\n    <link rel=\"preload\" href=\"https://cdn.ngrok.com/static/fonts/euclid-square/EuclidSquare-Medium-WebS.woff\" as=\"font\" type=\"font/woff\" crossorigin=\"anonymous\" />\\n    <link rel=\"preload\" href=\"https://cdn.ngrok.com/static/fonts/euclid-square/EuclidSquare-Semibold-WebS.woff\" as=\"font\" type=\"font/woff\" crossorigin=\"anonymous\" />\\n    <link rel=\"preload\" href=\"https://cdn.ngrok.com/static/fonts/euclid-square/EuclidSquare-MediumItalic-WebS.woff\" as=\"font\" type=\"font/woff\" crossorigin=\"anonymous\" />\\n    <link rel=\"preload\" href=\"https://cdn.ngrok.com/static/fonts/ibm-plex-mono/IBMPlexMono-Text.woff\" as=\"font\" type=\"font/woff\" crossorigin=\"anonymous\" />\\n    <link rel=\"preload\" href=\"https://cdn.ngrok.com/static/fonts/ibm-plex-mono/IBMPlexMono-TextItalic.woff\" as=\"font\" type=\"font/woff\" crossorigin=\"anonymous\" />\\n    <link rel=\"preload\" href=\"https://cdn.ngrok.com/static/fonts/ibm-plex-mono/IBMPlexMono-SemiBold.woff\" as=\"font\" type=\"font/woff\" crossorigin=\"anonymous\" />\\n    <link rel=\"preload\" href=\"https://cdn.ngrok.com/static/fonts/ibm-plex-mono/IBMPlexMono-SemiBoldItalic.woff\" as=\"font\" type=\"font/woff\" crossorigin=\"anonymous\" />\\n    <meta charset=\"utf-8\">\\n    <meta name=\"author\" content=\"ngrok\">\\n    <meta name=\"description\" content=\"ngrok is the fastest way to put anything on the internet with a single command.\">\\n    <meta name=\"robots\" content=\"noindex, nofollow\">\\n    <meta name=\"viewport\" content=\"width=device-width, initial-scale=1\">\\n    <link id=\"style\" rel=\"stylesheet\" href=\"https://cdn.ngrok.com/static/css/error.css\">\\n    <noscript>You are about to visit rapid-immensely-yak.ngrok-free.app, served by 167.234.216.194. This website is served for free through ngrok.com. You should only visit this website if you trust whoever sent the link to you. (ERR_NGROK_6024)</noscript>\\n    <script id=\"script\" src=\"https://cdn.ngrok.com/static/js/error.js\" type=\"text/javascript\"></script>\\n  </head>\\n  <body class=\"h-full\" id=\"ngrok\">\\n    <div id=\"root\" data-payload=\"eyJjZG5CYXNlIjoiaHR0cHM6Ly9jZG4ubmdyb2suY29tLyIsImNvZGUiOiI2MDI0IiwiaG9zdHBvcnQiOiJyYXBpZC1pbW1lbnNlbHkteWFrLm5ncm9rLWZyZWUuYXBwIiwibWVzc2FnZSI6IllvdSBhcmUgYWJvdXQgdG8gdmlzaXQgcmFwaWQtaW1tZW5zZWx5LXlhay5uZ3Jvay1mcmVlLmFwcCwgc2VydmVkIGJ5IDE2Ny4yMzQuMjE2LjE5NC4gVGhpcyB3ZWJzaXRlIGlzIHNlcnZlZCBmb3IgZnJlZSB0aHJvdWdoIG5ncm9rLmNvbS4gWW91IHNob3VsZCBvbmx5IHZpc2l0IHRoaXMgd2Vic2l0ZSBpZiB5b3UgdHJ1c3Qgd2hvZXZlciBzZW50IHRoZSBsaW5rIHRvIHlvdS4iLCJzZXJ2aW5nSVAiOiIxNjcuMjM0LjIxNi4xOTQiLCJ0aXRsZSI6Ik9LIn0=\"></div>\\n  </body>\\n</html>\\n'"
   ]
  },
  {
   "cell_type": "code",
   "execution_count": 5,
   "id": "c90c71d9",
   "metadata": {},
   "outputs": [
    {
     "name": "stdout",
     "output_type": "stream",
     "text": [
      "2884\n",
      "2911\n"
     ]
    }
   ],
   "source": [
    "print(len(vid_html))\n",
    "print(len(vid_html2))"
   ]
  },
  {
   "cell_type": "code",
   "execution_count": 4,
   "id": "18199416",
   "metadata": {},
   "outputs": [
    {
     "name": "stdout",
     "output_type": "stream",
     "text": [
      "<!DOCTYPE html>\n",
      "<html class=\"h-full\" lang=\"en-US\" dir=\"ltr\">\n",
      "  <head>\n",
      "    <link rel=\"preload\" href=\"https://cdn.ngrok.com/static/fonts/euclid-square/EuclidSquare-Regular-WebS.woff\" as=\"font\" type=\"font/woff\" crossorigin=\"anonymous\" />\n",
      "    <link rel=\"preload\" href=\"https://cdn.ngrok.com/static/fonts/euclid-square/EuclidSquare-RegularItalic-WebS.woff\" as=\"font\" type=\"font/woff\" crossorigin=\"anonymous\" />\n",
      "    <link rel=\"preload\" href=\"https://cdn.ngrok.com/static/fonts/euclid-square/EuclidSquare-Medium-WebS.woff\" as=\"font\" type=\"font/woff\" crossorigin=\"anonymous\" />\n",
      "    <link rel=\"preload\" href=\"https://cdn.ngrok.com/static/fonts/euclid-square/EuclidSquare-Semibold-WebS.woff\" as=\"font\" type=\"font/woff\" crossorigin=\"anonymous\" />\n",
      "    <link rel=\"preload\" href=\"https://cdn.ngrok.com/static/fonts/euclid-square/EuclidSquare-MediumItalic-WebS.woff\" as=\"font\" type=\"font/woff\" crossorigin=\"anonymous\" />\n",
      "    <link rel=\"preload\" href=\"https://cdn.ngrok.com/static/fonts/ibm-plex-mono/IBMPlexMono-Text.woff\" as=\"font\" type=\"font/woff\" crossorigin=\"anonymous\" />\n",
      "    <link rel=\"preload\" href=\"https://cdn.ngrok.com/static/fonts/ibm-plex-mono/IBMPlexMono-TextItalic.woff\" as=\"font\" type=\"font/woff\" crossorigin=\"anonymous\" />\n",
      "    <link rel=\"preload\" href=\"https://cdn.ngrok.com/static/fonts/ibm-plex-mono/IBMPlexMono-SemiBold.woff\" as=\"font\" type=\"font/woff\" crossorigin=\"anonymous\" />\n",
      "    <link rel=\"preload\" href=\"https://cdn.ngrok.com/static/fonts/ibm-plex-mono/IBMPlexMono-SemiBoldItalic.woff\" as=\"font\" type=\"font/woff\" crossorigin=\"anonymous\" />\n",
      "    <meta charset=\"utf-8\">\n",
      "    <meta name=\"author\" content=\"ngrok\">\n",
      "    <meta name=\"description\" content=\"ngrok is the fastest way to put anything on the internet with a single command.\">\n",
      "    <meta name=\"robots\" content=\"noindex, nofollow\">\n",
      "    <meta name=\"viewport\" content=\"width=device-width, initial-scale=1\">\n",
      "    <link id=\"style\" rel=\"stylesheet\" href=\"https://cdn.ngrok.com/static/css/error.css\">\n",
      "    <noscript>You are about to visit 0e485d805439.ngrok-free.app, served by 167.234.216.194. This website is served for free through ngrok.com. You should only visit this website if you trust whoever sent the link to you. (ERR_NGROK_6024)</noscript>\n",
      "    <script id=\"script\" src=\"https://cdn.ngrok.com/static/js/error.js\" type=\"text/javascript\"></script>\n",
      "  </head>\n",
      "  <body class=\"h-full\" id=\"ngrok\">\n",
      "    <div id=\"root\" data-payload=\"eyJjZG5CYXNlIjoiaHR0cHM6Ly9jZG4ubmdyb2suY29tLyIsImNvZGUiOiI2MDI0IiwiaG9zdHBvcnQiOiIwZTQ4NWQ4MDU0Mzkubmdyb2stZnJlZS5hcHAiLCJtZXNzYWdlIjoiWW91IGFyZSBhYm91dCB0byB2aXNpdCAwZTQ4NWQ4MDU0Mzkubmdyb2stZnJlZS5hcHAsIHNlcnZlZCBieSAxNjcuMjM0LjIxNi4xOTQuIFRoaXMgd2Vic2l0ZSBpcyBzZXJ2ZWQgZm9yIGZyZWUgdGhyb3VnaCBuZ3Jvay5jb20uIFlvdSBzaG91bGQgb25seSB2aXNpdCB0aGlzIHdlYnNpdGUgaWYgeW91IHRydXN0IHdob2V2ZXIgc2VudCB0aGUgbGluayB0byB5b3UuIiwic2VydmluZ0lQIjoiMTY3LjIzNC4yMTYuMTk0IiwidGl0bGUiOiJPSyJ9\"></div>\n",
      "  </body>\n",
      "</html>\n",
      "\n",
      "<!DOCTYPE html>\n",
      "<html class=\"h-full\" lang=\"en-US\" dir=\"ltr\">\n",
      "  <head>\n",
      "    <link rel=\"preload\" href=\"https://cdn.ngrok.com/static/fonts/euclid-square/EuclidSquare-Regular-WebS.woff\" as=\"font\" type=\"font/woff\" crossorigin=\"anonymous\" />\n",
      "    <link rel=\"preload\" href=\"https://cdn.ngrok.com/static/fonts/euclid-square/EuclidSquare-RegularItalic-WebS.woff\" as=\"font\" type=\"font/woff\" crossorigin=\"anonymous\" />\n",
      "    <link rel=\"preload\" href=\"https://cdn.ngrok.com/static/fonts/euclid-square/EuclidSquare-Medium-WebS.woff\" as=\"font\" type=\"font/woff\" crossorigin=\"anonymous\" />\n",
      "    <link rel=\"preload\" href=\"https://cdn.ngrok.com/static/fonts/euclid-square/EuclidSquare-Semibold-WebS.woff\" as=\"font\" type=\"font/woff\" crossorigin=\"anonymous\" />\n",
      "    <link rel=\"preload\" href=\"https://cdn.ngrok.com/static/fonts/euclid-square/EuclidSquare-MediumItalic-WebS.woff\" as=\"font\" type=\"font/woff\" crossorigin=\"anonymous\" />\n",
      "    <link rel=\"preload\" href=\"https://cdn.ngrok.com/static/fonts/ibm-plex-mono/IBMPlexMono-Text.woff\" as=\"font\" type=\"font/woff\" crossorigin=\"anonymous\" />\n",
      "    <link rel=\"preload\" href=\"https://cdn.ngrok.com/static/fonts/ibm-plex-mono/IBMPlexMono-TextItalic.woff\" as=\"font\" type=\"font/woff\" crossorigin=\"anonymous\" />\n",
      "    <link rel=\"preload\" href=\"https://cdn.ngrok.com/static/fonts/ibm-plex-mono/IBMPlexMono-SemiBold.woff\" as=\"font\" type=\"font/woff\" crossorigin=\"anonymous\" />\n",
      "    <link rel=\"preload\" href=\"https://cdn.ngrok.com/static/fonts/ibm-plex-mono/IBMPlexMono-SemiBoldItalic.woff\" as=\"font\" type=\"font/woff\" crossorigin=\"anonymous\" />\n",
      "    <meta charset=\"utf-8\">\n",
      "    <meta name=\"author\" content=\"ngrok\">\n",
      "    <meta name=\"description\" content=\"ngrok is the fastest way to put anything on the internet with a single command.\">\n",
      "    <meta name=\"robots\" content=\"noindex, nofollow\">\n",
      "    <meta name=\"viewport\" content=\"width=device-width, initial-scale=1\">\n",
      "    <link id=\"style\" rel=\"stylesheet\" href=\"https://cdn.ngrok.com/static/css/error.css\">\n",
      "    <noscript>You are about to visit rapid-immensely-yak.ngrok-free.app, served by 167.234.216.194. This website is served for free through ngrok.com. You should only visit this website if you trust whoever sent the link to you. (ERR_NGROK_6024)</noscript>\n",
      "    <script id=\"script\" src=\"https://cdn.ngrok.com/static/js/error.js\" type=\"text/javascript\"></script>\n",
      "  </head>\n",
      "  <body class=\"h-full\" id=\"ngrok\">\n",
      "    <div id=\"root\" data-payload=\"eyJjZG5CYXNlIjoiaHR0cHM6Ly9jZG4ubmdyb2suY29tLyIsImNvZGUiOiI2MDI0IiwiaG9zdHBvcnQiOiJyYXBpZC1pbW1lbnNlbHkteWFrLm5ncm9rLWZyZWUuYXBwIiwibWVzc2FnZSI6IllvdSBhcmUgYWJvdXQgdG8gdmlzaXQgcmFwaWQtaW1tZW5zZWx5LXlhay5uZ3Jvay1mcmVlLmFwcCwgc2VydmVkIGJ5IDE2Ny4yMzQuMjE2LjE5NC4gVGhpcyB3ZWJzaXRlIGlzIHNlcnZlZCBmb3IgZnJlZSB0aHJvdWdoIG5ncm9rLmNvbS4gWW91IHNob3VsZCBvbmx5IHZpc2l0IHRoaXMgd2Vic2l0ZSBpZiB5b3UgdHJ1c3Qgd2hvZXZlciBzZW50IHRoZSBsaW5rIHRvIHlvdS4iLCJzZXJ2aW5nSVAiOiIxNjcuMjM0LjIxNi4xOTQiLCJ0aXRsZSI6Ik9LIn0=\"></div>\n",
      "  </body>\n",
      "</html>\n",
      "\n"
     ]
    }
   ],
   "source": [
    "print(vid_html.decode('utf-8'))\n",
    "print(vid_html2.decode('utf-8'))"
   ]
  }
 ],
 "metadata": {
  "kernelspec": {
   "display_name": "env",
   "language": "python",
   "name": "python3"
  },
  "language_info": {
   "codemirror_mode": {
    "name": "ipython",
    "version": 3
   },
   "file_extension": ".py",
   "mimetype": "text/x-python",
   "name": "python",
   "nbconvert_exporter": "python",
   "pygments_lexer": "ipython3",
   "version": "3.13.5"
  }
 },
 "nbformat": 4,
 "nbformat_minor": 5
}
